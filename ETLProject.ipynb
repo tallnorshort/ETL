{
 "cells": [
  {
   "cell_type": "code",
   "execution_count": 1,
   "metadata": {},
   "outputs": [],
   "source": [
    "import pandas as pd\n",
    "from sqlalchemy import create_engine"
   ]
  },
  {
   "cell_type": "code",
   "execution_count": 2,
   "metadata": {},
   "outputs": [
    {
     "output_type": "execute_result",
     "data": {
      "text/plain": "     budget       id      revenue                        title  vote_average\n0  30000000    862.0  373554033.0                    Toy Story           7.7\n1  65000000   8844.0  262797249.0                      Jumanji           6.9\n2         0  15602.0          0.0             Grumpier Old Men           6.5\n3  16000000  31357.0   81452156.0            Waiting to Exhale           6.1\n4         0  11862.0   76578911.0  Father of the Bride Part II           5.7",
      "text/html": "<div>\n<style scoped>\n    .dataframe tbody tr th:only-of-type {\n        vertical-align: middle;\n    }\n\n    .dataframe tbody tr th {\n        vertical-align: top;\n    }\n\n    .dataframe thead th {\n        text-align: right;\n    }\n</style>\n<table border=\"1\" class=\"dataframe\">\n  <thead>\n    <tr style=\"text-align: right;\">\n      <th></th>\n      <th>budget</th>\n      <th>id</th>\n      <th>revenue</th>\n      <th>title</th>\n      <th>vote_average</th>\n    </tr>\n  </thead>\n  <tbody>\n    <tr>\n      <th>0</th>\n      <td>30000000</td>\n      <td>862.0</td>\n      <td>373554033.0</td>\n      <td>Toy Story</td>\n      <td>7.7</td>\n    </tr>\n    <tr>\n      <th>1</th>\n      <td>65000000</td>\n      <td>8844.0</td>\n      <td>262797249.0</td>\n      <td>Jumanji</td>\n      <td>6.9</td>\n    </tr>\n    <tr>\n      <th>2</th>\n      <td>0</td>\n      <td>15602.0</td>\n      <td>0.0</td>\n      <td>Grumpier Old Men</td>\n      <td>6.5</td>\n    </tr>\n    <tr>\n      <th>3</th>\n      <td>16000000</td>\n      <td>31357.0</td>\n      <td>81452156.0</td>\n      <td>Waiting to Exhale</td>\n      <td>6.1</td>\n    </tr>\n    <tr>\n      <th>4</th>\n      <td>0</td>\n      <td>11862.0</td>\n      <td>76578911.0</td>\n      <td>Father of the Bride Part II</td>\n      <td>5.7</td>\n    </tr>\n  </tbody>\n</table>\n</div>"
     },
     "metadata": {},
     "execution_count": 2
    }
   ],
   "source": [
    "movie_file = \"movies_metadata.csv\"\n",
    "movie_data_df = pd.read_csv(movie_file)\n",
    "movie_data_df.head()\n",
    "\n",
    "\n",
    "movie_data_df2= movie_data_df.drop(['adult', 'belongs_to_collection', 'genres', 'homepage','imdb_id','original_language','overview','popularity',\n",
    "                                   'poster_path','release_date','runtime','spoken_languages','status','tagline','original_title',\n",
    "                                   'video','vote_count','production_companies','production_countries'],axis=1)\n",
    "\n",
    "movie_data_df2['id'] = pd.to_numeric(movie_data_df2['id'], downcast='integer', errors='coerce')\n",
    "movie_data_df2.set_index('id')\n",
    "\n",
    "movie_data_df2.head()"
   ]
  },
  {
   "cell_type": "code",
   "execution_count": 3,
   "metadata": {},
   "outputs": [
    {
     "output_type": "execute_result",
     "data": {
      "text/plain": "        movieId  rating\n0            31     2.5\n1          1029     3.0\n2          1061     3.0\n3          1129     2.0\n4          1172     4.0\n...         ...     ...\n99999      6268     2.5\n100000     6269     4.0\n100001     6365     4.0\n100002     6385     2.5\n100003     6565     3.5\n\n[100004 rows x 2 columns]",
      "text/html": "<div>\n<style scoped>\n    .dataframe tbody tr th:only-of-type {\n        vertical-align: middle;\n    }\n\n    .dataframe tbody tr th {\n        vertical-align: top;\n    }\n\n    .dataframe thead th {\n        text-align: right;\n    }\n</style>\n<table border=\"1\" class=\"dataframe\">\n  <thead>\n    <tr style=\"text-align: right;\">\n      <th></th>\n      <th>movieId</th>\n      <th>rating</th>\n    </tr>\n  </thead>\n  <tbody>\n    <tr>\n      <th>0</th>\n      <td>31</td>\n      <td>2.5</td>\n    </tr>\n    <tr>\n      <th>1</th>\n      <td>1029</td>\n      <td>3.0</td>\n    </tr>\n    <tr>\n      <th>2</th>\n      <td>1061</td>\n      <td>3.0</td>\n    </tr>\n    <tr>\n      <th>3</th>\n      <td>1129</td>\n      <td>2.0</td>\n    </tr>\n    <tr>\n      <th>4</th>\n      <td>1172</td>\n      <td>4.0</td>\n    </tr>\n    <tr>\n      <th>...</th>\n      <td>...</td>\n      <td>...</td>\n    </tr>\n    <tr>\n      <th>99999</th>\n      <td>6268</td>\n      <td>2.5</td>\n    </tr>\n    <tr>\n      <th>100000</th>\n      <td>6269</td>\n      <td>4.0</td>\n    </tr>\n    <tr>\n      <th>100001</th>\n      <td>6365</td>\n      <td>4.0</td>\n    </tr>\n    <tr>\n      <th>100002</th>\n      <td>6385</td>\n      <td>2.5</td>\n    </tr>\n    <tr>\n      <th>100003</th>\n      <td>6565</td>\n      <td>3.5</td>\n    </tr>\n  </tbody>\n</table>\n<p>100004 rows × 2 columns</p>\n</div>"
     },
     "metadata": {},
     "execution_count": 3
    }
   ],
   "source": [
    "rating_file = \"ratings_small.csv\"\n",
    "rating_data_df = pd.read_csv(rating_file)\n",
    "rating_data_df.head()\n",
    "\n",
    "\n",
    "rating_data_df2= rating_data_df.drop(['userId','timestamp'],axis=1)\n",
    "rating_data_df2"
   ]
  },
  {
   "cell_type": "code",
   "execution_count": 4,
   "metadata": {},
   "outputs": [
    {
     "output_type": "execute_result",
     "data": {
      "text/plain": "      movieId    tmdbId\n0           1     862.0\n1           2    8844.0\n2           3   15602.0\n3           4   31357.0\n4           5   11862.0\n...       ...       ...\n9120   162672  402672.0\n9121   163056  315011.0\n9122   163949  391698.0\n9123   164977  137608.0\n9124   164979  410803.0\n\n[9125 rows x 2 columns]",
      "text/html": "<div>\n<style scoped>\n    .dataframe tbody tr th:only-of-type {\n        vertical-align: middle;\n    }\n\n    .dataframe tbody tr th {\n        vertical-align: top;\n    }\n\n    .dataframe thead th {\n        text-align: right;\n    }\n</style>\n<table border=\"1\" class=\"dataframe\">\n  <thead>\n    <tr style=\"text-align: right;\">\n      <th></th>\n      <th>movieId</th>\n      <th>tmdbId</th>\n    </tr>\n  </thead>\n  <tbody>\n    <tr>\n      <th>0</th>\n      <td>1</td>\n      <td>862.0</td>\n    </tr>\n    <tr>\n      <th>1</th>\n      <td>2</td>\n      <td>8844.0</td>\n    </tr>\n    <tr>\n      <th>2</th>\n      <td>3</td>\n      <td>15602.0</td>\n    </tr>\n    <tr>\n      <th>3</th>\n      <td>4</td>\n      <td>31357.0</td>\n    </tr>\n    <tr>\n      <th>4</th>\n      <td>5</td>\n      <td>11862.0</td>\n    </tr>\n    <tr>\n      <th>...</th>\n      <td>...</td>\n      <td>...</td>\n    </tr>\n    <tr>\n      <th>9120</th>\n      <td>162672</td>\n      <td>402672.0</td>\n    </tr>\n    <tr>\n      <th>9121</th>\n      <td>163056</td>\n      <td>315011.0</td>\n    </tr>\n    <tr>\n      <th>9122</th>\n      <td>163949</td>\n      <td>391698.0</td>\n    </tr>\n    <tr>\n      <th>9123</th>\n      <td>164977</td>\n      <td>137608.0</td>\n    </tr>\n    <tr>\n      <th>9124</th>\n      <td>164979</td>\n      <td>410803.0</td>\n    </tr>\n  </tbody>\n</table>\n<p>9125 rows × 2 columns</p>\n</div>"
     },
     "metadata": {},
     "execution_count": 4
    }
   ],
   "source": [
    "#\n",
    "link_file = \"links_small.csv\"\n",
    "link_data_df = pd.read_csv(link_file)\n",
    "link_data_df.head()\n",
    "\n",
    "link_data_df2= link_data_df.drop(['imdbId'],axis=1)\n",
    "\n",
    "link_data_df2"
   ]
  },
  {
   "cell_type": "code",
   "execution_count": 5,
   "metadata": {},
   "outputs": [
    {
     "output_type": "execute_result",
     "data": {
      "text/plain": "        movieId  rating    tmdbId\n0            31     2.5    9909.0\n1            31     3.0    9909.0\n2            31     4.0    9909.0\n3            31     4.0    9909.0\n4            31     3.0    9909.0\n...         ...     ...       ...\n100058   161336     NaN  373348.0\n100059   161582     NaN  338766.0\n100060   163056     NaN  315011.0\n100061   164977     NaN  137608.0\n100062   164979     NaN  410803.0\n\n[100063 rows x 3 columns]",
      "text/html": "<div>\n<style scoped>\n    .dataframe tbody tr th:only-of-type {\n        vertical-align: middle;\n    }\n\n    .dataframe tbody tr th {\n        vertical-align: top;\n    }\n\n    .dataframe thead th {\n        text-align: right;\n    }\n</style>\n<table border=\"1\" class=\"dataframe\">\n  <thead>\n    <tr style=\"text-align: right;\">\n      <th></th>\n      <th>movieId</th>\n      <th>rating</th>\n      <th>tmdbId</th>\n    </tr>\n  </thead>\n  <tbody>\n    <tr>\n      <th>0</th>\n      <td>31</td>\n      <td>2.5</td>\n      <td>9909.0</td>\n    </tr>\n    <tr>\n      <th>1</th>\n      <td>31</td>\n      <td>3.0</td>\n      <td>9909.0</td>\n    </tr>\n    <tr>\n      <th>2</th>\n      <td>31</td>\n      <td>4.0</td>\n      <td>9909.0</td>\n    </tr>\n    <tr>\n      <th>3</th>\n      <td>31</td>\n      <td>4.0</td>\n      <td>9909.0</td>\n    </tr>\n    <tr>\n      <th>4</th>\n      <td>31</td>\n      <td>3.0</td>\n      <td>9909.0</td>\n    </tr>\n    <tr>\n      <th>...</th>\n      <td>...</td>\n      <td>...</td>\n      <td>...</td>\n    </tr>\n    <tr>\n      <th>100058</th>\n      <td>161336</td>\n      <td>NaN</td>\n      <td>373348.0</td>\n    </tr>\n    <tr>\n      <th>100059</th>\n      <td>161582</td>\n      <td>NaN</td>\n      <td>338766.0</td>\n    </tr>\n    <tr>\n      <th>100060</th>\n      <td>163056</td>\n      <td>NaN</td>\n      <td>315011.0</td>\n    </tr>\n    <tr>\n      <th>100061</th>\n      <td>164977</td>\n      <td>NaN</td>\n      <td>137608.0</td>\n    </tr>\n    <tr>\n      <th>100062</th>\n      <td>164979</td>\n      <td>NaN</td>\n      <td>410803.0</td>\n    </tr>\n  </tbody>\n</table>\n<p>100063 rows × 3 columns</p>\n</div>"
     },
     "metadata": {},
     "execution_count": 5
    }
   ],
   "source": [
    "link_rating_df = pd.merge(rating_data_df2, link_data_df2, on='movieId', how='outer')\n",
    "link_rating_df"
   ]
  },
  {
   "cell_type": "code",
   "execution_count": 6,
   "metadata": {},
   "outputs": [
    {
     "output_type": "execute_result",
     "data": {
      "text/plain": "        movieId  rating        id\n0            31     2.5    9909.0\n1            31     3.0    9909.0\n2            31     4.0    9909.0\n3            31     4.0    9909.0\n4            31     3.0    9909.0\n...         ...     ...       ...\n100058   161336     NaN  373348.0\n100059   161582     NaN  338766.0\n100060   163056     NaN  315011.0\n100061   164977     NaN  137608.0\n100062   164979     NaN  410803.0\n\n[100063 rows x 3 columns]",
      "text/html": "<div>\n<style scoped>\n    .dataframe tbody tr th:only-of-type {\n        vertical-align: middle;\n    }\n\n    .dataframe tbody tr th {\n        vertical-align: top;\n    }\n\n    .dataframe thead th {\n        text-align: right;\n    }\n</style>\n<table border=\"1\" class=\"dataframe\">\n  <thead>\n    <tr style=\"text-align: right;\">\n      <th></th>\n      <th>movieId</th>\n      <th>rating</th>\n      <th>id</th>\n    </tr>\n  </thead>\n  <tbody>\n    <tr>\n      <th>0</th>\n      <td>31</td>\n      <td>2.5</td>\n      <td>9909.0</td>\n    </tr>\n    <tr>\n      <th>1</th>\n      <td>31</td>\n      <td>3.0</td>\n      <td>9909.0</td>\n    </tr>\n    <tr>\n      <th>2</th>\n      <td>31</td>\n      <td>4.0</td>\n      <td>9909.0</td>\n    </tr>\n    <tr>\n      <th>3</th>\n      <td>31</td>\n      <td>4.0</td>\n      <td>9909.0</td>\n    </tr>\n    <tr>\n      <th>4</th>\n      <td>31</td>\n      <td>3.0</td>\n      <td>9909.0</td>\n    </tr>\n    <tr>\n      <th>...</th>\n      <td>...</td>\n      <td>...</td>\n      <td>...</td>\n    </tr>\n    <tr>\n      <th>100058</th>\n      <td>161336</td>\n      <td>NaN</td>\n      <td>373348.0</td>\n    </tr>\n    <tr>\n      <th>100059</th>\n      <td>161582</td>\n      <td>NaN</td>\n      <td>338766.0</td>\n    </tr>\n    <tr>\n      <th>100060</th>\n      <td>163056</td>\n      <td>NaN</td>\n      <td>315011.0</td>\n    </tr>\n    <tr>\n      <th>100061</th>\n      <td>164977</td>\n      <td>NaN</td>\n      <td>137608.0</td>\n    </tr>\n    <tr>\n      <th>100062</th>\n      <td>164979</td>\n      <td>NaN</td>\n      <td>410803.0</td>\n    </tr>\n  </tbody>\n</table>\n<p>100063 rows × 3 columns</p>\n</div>"
     },
     "metadata": {},
     "execution_count": 6
    }
   ],
   "source": [
    "link_rating_df.columns = ['movieId', 'rating', 'id']\n",
    "link_rating_df"
   ]
  },
  {
   "cell_type": "code",
   "execution_count": 7,
   "metadata": {},
   "outputs": [],
   "source": [
    "link_rating_df['id'] = pd.to_numeric(link_rating_df['id'], downcast='integer', errors='coerce')\n"
   ]
  },
  {
   "cell_type": "code",
   "execution_count": 8,
   "metadata": {},
   "outputs": [],
   "source": [
    "link_rating_df.reset_index(drop=True, inplace=True)"
   ]
  },
  {
   "cell_type": "code",
   "execution_count": 9,
   "metadata": {},
   "outputs": [
    {
     "output_type": "execute_result",
     "data": {
      "text/plain": "        movieId  rating        id budget      revenue                title  \\\n0          31.0     2.5    9909.0      0  180000000.0      Dangerous Minds   \n1          31.0     3.0    9909.0      0  180000000.0      Dangerous Minds   \n2          31.0     4.0    9909.0      0  180000000.0      Dangerous Minds   \n3          31.0     4.0    9909.0      0  180000000.0      Dangerous Minds   \n4          31.0     3.0    9909.0      0  180000000.0      Dangerous Minds   \n...         ...     ...       ...    ...          ...                  ...   \n136604      NaN     NaN  439050.0      0          0.0               Subdue   \n136605      NaN     NaN  111109.0      0          0.0  Century of Birthing   \n136606      NaN     NaN   67758.0      0          0.0             Betrayal   \n136607      NaN     NaN  227506.0      0          0.0     Satan Triumphant   \n136608      NaN     NaN  461257.0      0          0.0             Queerama   \n\n        vote_average  \n0                6.4  \n1                6.4  \n2                6.4  \n3                6.4  \n4                6.4  \n...              ...  \n136604           4.0  \n136605           9.0  \n136606           3.8  \n136607           0.0  \n136608           0.0  \n\n[136609 rows x 7 columns]",
      "text/html": "<div>\n<style scoped>\n    .dataframe tbody tr th:only-of-type {\n        vertical-align: middle;\n    }\n\n    .dataframe tbody tr th {\n        vertical-align: top;\n    }\n\n    .dataframe thead th {\n        text-align: right;\n    }\n</style>\n<table border=\"1\" class=\"dataframe\">\n  <thead>\n    <tr style=\"text-align: right;\">\n      <th></th>\n      <th>movieId</th>\n      <th>rating</th>\n      <th>id</th>\n      <th>budget</th>\n      <th>revenue</th>\n      <th>title</th>\n      <th>vote_average</th>\n    </tr>\n  </thead>\n  <tbody>\n    <tr>\n      <th>0</th>\n      <td>31.0</td>\n      <td>2.5</td>\n      <td>9909.0</td>\n      <td>0</td>\n      <td>180000000.0</td>\n      <td>Dangerous Minds</td>\n      <td>6.4</td>\n    </tr>\n    <tr>\n      <th>1</th>\n      <td>31.0</td>\n      <td>3.0</td>\n      <td>9909.0</td>\n      <td>0</td>\n      <td>180000000.0</td>\n      <td>Dangerous Minds</td>\n      <td>6.4</td>\n    </tr>\n    <tr>\n      <th>2</th>\n      <td>31.0</td>\n      <td>4.0</td>\n      <td>9909.0</td>\n      <td>0</td>\n      <td>180000000.0</td>\n      <td>Dangerous Minds</td>\n      <td>6.4</td>\n    </tr>\n    <tr>\n      <th>3</th>\n      <td>31.0</td>\n      <td>4.0</td>\n      <td>9909.0</td>\n      <td>0</td>\n      <td>180000000.0</td>\n      <td>Dangerous Minds</td>\n      <td>6.4</td>\n    </tr>\n    <tr>\n      <th>4</th>\n      <td>31.0</td>\n      <td>3.0</td>\n      <td>9909.0</td>\n      <td>0</td>\n      <td>180000000.0</td>\n      <td>Dangerous Minds</td>\n      <td>6.4</td>\n    </tr>\n    <tr>\n      <th>...</th>\n      <td>...</td>\n      <td>...</td>\n      <td>...</td>\n      <td>...</td>\n      <td>...</td>\n      <td>...</td>\n      <td>...</td>\n    </tr>\n    <tr>\n      <th>136604</th>\n      <td>NaN</td>\n      <td>NaN</td>\n      <td>439050.0</td>\n      <td>0</td>\n      <td>0.0</td>\n      <td>Subdue</td>\n      <td>4.0</td>\n    </tr>\n    <tr>\n      <th>136605</th>\n      <td>NaN</td>\n      <td>NaN</td>\n      <td>111109.0</td>\n      <td>0</td>\n      <td>0.0</td>\n      <td>Century of Birthing</td>\n      <td>9.0</td>\n    </tr>\n    <tr>\n      <th>136606</th>\n      <td>NaN</td>\n      <td>NaN</td>\n      <td>67758.0</td>\n      <td>0</td>\n      <td>0.0</td>\n      <td>Betrayal</td>\n      <td>3.8</td>\n    </tr>\n    <tr>\n      <th>136607</th>\n      <td>NaN</td>\n      <td>NaN</td>\n      <td>227506.0</td>\n      <td>0</td>\n      <td>0.0</td>\n      <td>Satan Triumphant</td>\n      <td>0.0</td>\n    </tr>\n    <tr>\n      <th>136608</th>\n      <td>NaN</td>\n      <td>NaN</td>\n      <td>461257.0</td>\n      <td>0</td>\n      <td>0.0</td>\n      <td>Queerama</td>\n      <td>0.0</td>\n    </tr>\n  </tbody>\n</table>\n<p>136609 rows × 7 columns</p>\n</div>"
     },
     "metadata": {},
     "execution_count": 9
    }
   ],
   "source": [
    "link_rating_df2 = pd.merge(link_rating_df, movie_data_df2, on='id', how='outer')\n",
    "link_rating_df2"
   ]
  },
  {
   "cell_type": "code",
   "execution_count": 10,
   "metadata": {},
   "outputs": [
    {
     "output_type": "execute_result",
     "data": {
      "text/plain": "        movieId  rating        id    budget      revenue  \\\n0          31.0     2.5    9909.0         0  180000000.0   \n1          31.0     3.0    9909.0         0  180000000.0   \n2          31.0     4.0    9909.0         0  180000000.0   \n3          31.0     4.0    9909.0         0  180000000.0   \n4          31.0     3.0    9909.0         0  180000000.0   \n...         ...     ...       ...       ...          ...   \n100181  64997.0     2.5   34812.0   1000000          0.0   \n100182  72380.0     3.5   22825.0  30000000   33333531.0   \n100183    129.0     3.0  110972.0         0          0.0   \n100184   4736.0     1.0   26602.0  34000000   19693891.0   \n100185   6425.0     1.0   36807.0         0          0.0   \n\n                                title  vote_average  \n0                     Dangerous Minds           6.4  \n1                     Dangerous Minds           6.4  \n2                     Dangerous Minds           6.4  \n3                     Dangerous Minds           6.4  \n4                     Dangerous Minds           6.4  \n...                               ...           ...  \n100181  H.G. Wells' War of the Worlds           4.4  \n100182                        The Box           5.4  \n100183                 Pie in the Sky           7.0  \n100184                   Summer Catch           4.8  \n100185                  The Sixth Man           5.0  \n\n[99850 rows x 7 columns]",
      "text/html": "<div>\n<style scoped>\n    .dataframe tbody tr th:only-of-type {\n        vertical-align: middle;\n    }\n\n    .dataframe tbody tr th {\n        vertical-align: top;\n    }\n\n    .dataframe thead th {\n        text-align: right;\n    }\n</style>\n<table border=\"1\" class=\"dataframe\">\n  <thead>\n    <tr style=\"text-align: right;\">\n      <th></th>\n      <th>movieId</th>\n      <th>rating</th>\n      <th>id</th>\n      <th>budget</th>\n      <th>revenue</th>\n      <th>title</th>\n      <th>vote_average</th>\n    </tr>\n  </thead>\n  <tbody>\n    <tr>\n      <th>0</th>\n      <td>31.0</td>\n      <td>2.5</td>\n      <td>9909.0</td>\n      <td>0</td>\n      <td>180000000.0</td>\n      <td>Dangerous Minds</td>\n      <td>6.4</td>\n    </tr>\n    <tr>\n      <th>1</th>\n      <td>31.0</td>\n      <td>3.0</td>\n      <td>9909.0</td>\n      <td>0</td>\n      <td>180000000.0</td>\n      <td>Dangerous Minds</td>\n      <td>6.4</td>\n    </tr>\n    <tr>\n      <th>2</th>\n      <td>31.0</td>\n      <td>4.0</td>\n      <td>9909.0</td>\n      <td>0</td>\n      <td>180000000.0</td>\n      <td>Dangerous Minds</td>\n      <td>6.4</td>\n    </tr>\n    <tr>\n      <th>3</th>\n      <td>31.0</td>\n      <td>4.0</td>\n      <td>9909.0</td>\n      <td>0</td>\n      <td>180000000.0</td>\n      <td>Dangerous Minds</td>\n      <td>6.4</td>\n    </tr>\n    <tr>\n      <th>4</th>\n      <td>31.0</td>\n      <td>3.0</td>\n      <td>9909.0</td>\n      <td>0</td>\n      <td>180000000.0</td>\n      <td>Dangerous Minds</td>\n      <td>6.4</td>\n    </tr>\n    <tr>\n      <th>...</th>\n      <td>...</td>\n      <td>...</td>\n      <td>...</td>\n      <td>...</td>\n      <td>...</td>\n      <td>...</td>\n      <td>...</td>\n    </tr>\n    <tr>\n      <th>100181</th>\n      <td>64997.0</td>\n      <td>2.5</td>\n      <td>34812.0</td>\n      <td>1000000</td>\n      <td>0.0</td>\n      <td>H.G. Wells' War of the Worlds</td>\n      <td>4.4</td>\n    </tr>\n    <tr>\n      <th>100182</th>\n      <td>72380.0</td>\n      <td>3.5</td>\n      <td>22825.0</td>\n      <td>30000000</td>\n      <td>33333531.0</td>\n      <td>The Box</td>\n      <td>5.4</td>\n    </tr>\n    <tr>\n      <th>100183</th>\n      <td>129.0</td>\n      <td>3.0</td>\n      <td>110972.0</td>\n      <td>0</td>\n      <td>0.0</td>\n      <td>Pie in the Sky</td>\n      <td>7.0</td>\n    </tr>\n    <tr>\n      <th>100184</th>\n      <td>4736.0</td>\n      <td>1.0</td>\n      <td>26602.0</td>\n      <td>34000000</td>\n      <td>19693891.0</td>\n      <td>Summer Catch</td>\n      <td>4.8</td>\n    </tr>\n    <tr>\n      <th>100185</th>\n      <td>6425.0</td>\n      <td>1.0</td>\n      <td>36807.0</td>\n      <td>0</td>\n      <td>0.0</td>\n      <td>The Sixth Man</td>\n      <td>5.0</td>\n    </tr>\n  </tbody>\n</table>\n<p>99850 rows × 7 columns</p>\n</div>"
     },
     "metadata": {},
     "execution_count": 10
    }
   ],
   "source": [
    "#drop all rows with missing information\n",
    "link_rating_df2 = link_rating_df2.dropna(how='any')\n",
    "link_rating_df2"
   ]
  },
  {
   "cell_type": "code",
   "execution_count": 11,
   "metadata": {},
   "outputs": [
    {
     "output_type": "execute_result",
     "data": {
      "text/plain": "movieId         99850\nrating          99850\nid              99850\nbudget          99850\nrevenue         99850\ntitle           99850\nvote_average    99850\ndtype: int64"
     },
     "metadata": {},
     "execution_count": 11
    }
   ],
   "source": [
    "link_rating_df2.count()"
   ]
  },
  {
   "cell_type": "code",
   "execution_count": 12,
   "metadata": {},
   "outputs": [
    {
     "output_type": "execute_result",
     "data": {
      "text/plain": "movieId         float64\nrating          float64\nid              float64\nbudget           object\nrevenue         float64\ntitle            object\nvote_average    float64\ndtype: object"
     },
     "metadata": {},
     "execution_count": 12
    }
   ],
   "source": [
    "link_rating_df2.dtypes"
   ]
  },
  {
   "cell_type": "code",
   "execution_count": 37,
   "metadata": {},
   "outputs": [
    {
     "output_type": "stream",
     "name": "stdout",
     "text": "movieId  rating        id    budget     revenue  \\\n13105   84236.0     4.0   34767.0         0         0.0   \n21474    2086.0     5.0   13380.0         0         0.0   \n37314   43556.0     3.5   13275.0  26000000  17496992.0   \n39814   91548.0     4.0   66150.0     45202    225861.0   \n40402    3474.0     4.0   26689.0         0         0.0   \n...         ...     ...       ...       ...         ...   \n100181  64997.0     2.5   34812.0   1000000         0.0   \n100182  72380.0     3.5   22825.0  30000000  33333531.0   \n100183    129.0     3.0  110972.0         0         0.0   \n100184   4736.0     1.0   26602.0  34000000  19693891.0   \n100185   6425.0     1.0   36807.0         0         0.0   \n\n                                                    title  vote_average  \n13105   The White Stripes: Under Great White Northern ...           6.9  \n21474                                 One Magic Christmas           5.7  \n37314                                           Annapolis           6.0  \n39814                                       Life in a Day           7.3  \n40402                                         Retroactive           6.0  \n...                                                   ...           ...  \n100181                      H.G. Wells' War of the Worlds           4.4  \n100182                                            The Box           5.4  \n100183                                     Pie in the Sky           7.0  \n100184                                       Summer Catch           4.8  \n100185                                      The Sixth Man           5.0  \n\n[2882 rows x 7 columns]\n"
    },
    {
     "output_type": "execute_result",
     "data": {
      "text/plain": "       movieId  rating        id    budget     revenue  \\\n13105  84236.0     4.0   34767.0         0         0.0   \n21474   2086.0     5.0   13380.0         0         0.0   \n37314  43556.0     3.5   13275.0  26000000  17496992.0   \n39814  91548.0     4.0   66150.0     45202    225861.0   \n40402   3474.0     4.0   26689.0         0         0.0   \n40412   3780.0     2.0   37744.0         0         0.0   \n40688   3829.0     2.0   43079.0         0         0.0   \n40830   3879.0     5.0   11398.0  40000000  30199105.0   \n40831   3885.0     3.0   25128.0         0         0.0   \n54188   3318.0     3.0   25212.0         0         0.0   \n55806   3800.0     2.0   33828.0         0         0.0   \n56703   4079.0     4.0    5709.0         0         0.0   \n56704   4082.0     1.0   10937.0   3000000   3221568.0   \n57159   4302.0     5.0   10613.0         0         0.0   \n57486   4451.0     2.5   25985.0         0         0.0   \n57841   4731.0     5.0  125707.0         0         0.0   \n58248   5000.0     3.5   42612.0         0         0.0   \n58441   5071.0     5.0   35650.0         0         0.0   \n58450   5075.0     4.0   13915.0    555000         0.0   \n58753   5363.0     1.0   10985.0  13000000         0.0   \n\n                                                   title  vote_average  \n13105  The White Stripes: Under Great White Northern ...           6.9  \n21474                                One Magic Christmas           5.7  \n37314                                          Annapolis           6.0  \n39814                                      Life in a Day           7.3  \n40402                                        Retroactive           6.0  \n40412                                     Rocketship X-M           5.1  \n40688                                    Mad About Mambo           4.6  \n40830                                     The Art of War           5.6  \n40831                                         Love & Sex           5.7  \n54188                                         Deterrence           6.1  \n55806                                    Criminal Lovers           6.6  \n56703                           Amazon Women on the Moon           6.0  \n56704                                             Barfly           7.3  \n57159                                  The King Is Alive           5.8  \n57486                                      Jump Tomorrow           6.9  \n57841                                          Innocence           5.0  \n58248                                        Medium Cool           7.0  \n58441                                          Maelström           6.3  \n58450                                        Waydowntown           6.0  \n58753                                        The New Guy           5.7  ",
      "text/html": "<div>\n<style scoped>\n    .dataframe tbody tr th:only-of-type {\n        vertical-align: middle;\n    }\n\n    .dataframe tbody tr th {\n        vertical-align: top;\n    }\n\n    .dataframe thead th {\n        text-align: right;\n    }\n</style>\n<table border=\"1\" class=\"dataframe\">\n  <thead>\n    <tr style=\"text-align: right;\">\n      <th></th>\n      <th>movieId</th>\n      <th>rating</th>\n      <th>id</th>\n      <th>budget</th>\n      <th>revenue</th>\n      <th>title</th>\n      <th>vote_average</th>\n    </tr>\n  </thead>\n  <tbody>\n    <tr>\n      <th>13105</th>\n      <td>84236.0</td>\n      <td>4.0</td>\n      <td>34767.0</td>\n      <td>0</td>\n      <td>0.0</td>\n      <td>The White Stripes: Under Great White Northern ...</td>\n      <td>6.9</td>\n    </tr>\n    <tr>\n      <th>21474</th>\n      <td>2086.0</td>\n      <td>5.0</td>\n      <td>13380.0</td>\n      <td>0</td>\n      <td>0.0</td>\n      <td>One Magic Christmas</td>\n      <td>5.7</td>\n    </tr>\n    <tr>\n      <th>37314</th>\n      <td>43556.0</td>\n      <td>3.5</td>\n      <td>13275.0</td>\n      <td>26000000</td>\n      <td>17496992.0</td>\n      <td>Annapolis</td>\n      <td>6.0</td>\n    </tr>\n    <tr>\n      <th>39814</th>\n      <td>91548.0</td>\n      <td>4.0</td>\n      <td>66150.0</td>\n      <td>45202</td>\n      <td>225861.0</td>\n      <td>Life in a Day</td>\n      <td>7.3</td>\n    </tr>\n    <tr>\n      <th>40402</th>\n      <td>3474.0</td>\n      <td>4.0</td>\n      <td>26689.0</td>\n      <td>0</td>\n      <td>0.0</td>\n      <td>Retroactive</td>\n      <td>6.0</td>\n    </tr>\n    <tr>\n      <th>40412</th>\n      <td>3780.0</td>\n      <td>2.0</td>\n      <td>37744.0</td>\n      <td>0</td>\n      <td>0.0</td>\n      <td>Rocketship X-M</td>\n      <td>5.1</td>\n    </tr>\n    <tr>\n      <th>40688</th>\n      <td>3829.0</td>\n      <td>2.0</td>\n      <td>43079.0</td>\n      <td>0</td>\n      <td>0.0</td>\n      <td>Mad About Mambo</td>\n      <td>4.6</td>\n    </tr>\n    <tr>\n      <th>40830</th>\n      <td>3879.0</td>\n      <td>5.0</td>\n      <td>11398.0</td>\n      <td>40000000</td>\n      <td>30199105.0</td>\n      <td>The Art of War</td>\n      <td>5.6</td>\n    </tr>\n    <tr>\n      <th>40831</th>\n      <td>3885.0</td>\n      <td>3.0</td>\n      <td>25128.0</td>\n      <td>0</td>\n      <td>0.0</td>\n      <td>Love &amp; Sex</td>\n      <td>5.7</td>\n    </tr>\n    <tr>\n      <th>54188</th>\n      <td>3318.0</td>\n      <td>3.0</td>\n      <td>25212.0</td>\n      <td>0</td>\n      <td>0.0</td>\n      <td>Deterrence</td>\n      <td>6.1</td>\n    </tr>\n    <tr>\n      <th>55806</th>\n      <td>3800.0</td>\n      <td>2.0</td>\n      <td>33828.0</td>\n      <td>0</td>\n      <td>0.0</td>\n      <td>Criminal Lovers</td>\n      <td>6.6</td>\n    </tr>\n    <tr>\n      <th>56703</th>\n      <td>4079.0</td>\n      <td>4.0</td>\n      <td>5709.0</td>\n      <td>0</td>\n      <td>0.0</td>\n      <td>Amazon Women on the Moon</td>\n      <td>6.0</td>\n    </tr>\n    <tr>\n      <th>56704</th>\n      <td>4082.0</td>\n      <td>1.0</td>\n      <td>10937.0</td>\n      <td>3000000</td>\n      <td>3221568.0</td>\n      <td>Barfly</td>\n      <td>7.3</td>\n    </tr>\n    <tr>\n      <th>57159</th>\n      <td>4302.0</td>\n      <td>5.0</td>\n      <td>10613.0</td>\n      <td>0</td>\n      <td>0.0</td>\n      <td>The King Is Alive</td>\n      <td>5.8</td>\n    </tr>\n    <tr>\n      <th>57486</th>\n      <td>4451.0</td>\n      <td>2.5</td>\n      <td>25985.0</td>\n      <td>0</td>\n      <td>0.0</td>\n      <td>Jump Tomorrow</td>\n      <td>6.9</td>\n    </tr>\n    <tr>\n      <th>57841</th>\n      <td>4731.0</td>\n      <td>5.0</td>\n      <td>125707.0</td>\n      <td>0</td>\n      <td>0.0</td>\n      <td>Innocence</td>\n      <td>5.0</td>\n    </tr>\n    <tr>\n      <th>58248</th>\n      <td>5000.0</td>\n      <td>3.5</td>\n      <td>42612.0</td>\n      <td>0</td>\n      <td>0.0</td>\n      <td>Medium Cool</td>\n      <td>7.0</td>\n    </tr>\n    <tr>\n      <th>58441</th>\n      <td>5071.0</td>\n      <td>5.0</td>\n      <td>35650.0</td>\n      <td>0</td>\n      <td>0.0</td>\n      <td>Maelström</td>\n      <td>6.3</td>\n    </tr>\n    <tr>\n      <th>58450</th>\n      <td>5075.0</td>\n      <td>4.0</td>\n      <td>13915.0</td>\n      <td>555000</td>\n      <td>0.0</td>\n      <td>Waydowntown</td>\n      <td>6.0</td>\n    </tr>\n    <tr>\n      <th>58753</th>\n      <td>5363.0</td>\n      <td>1.0</td>\n      <td>10985.0</td>\n      <td>13000000</td>\n      <td>0.0</td>\n      <td>The New Guy</td>\n      <td>5.7</td>\n    </tr>\n  </tbody>\n</table>\n</div>"
     },
     "metadata": {},
     "execution_count": 37
    }
   ],
   "source": [
    "uniqueMovies = link_rating_df2\n",
    "uniqueMovies.drop_duplicates(subset =\"title\", \n",
    "                     keep = False, inplace = True) \n",
    "print(uniqueMovies)\n",
    "uniqueMovies.head(20)"
   ]
  },
  {
   "cell_type": "code",
   "execution_count": 38,
   "metadata": {},
   "outputs": [
    {
     "output_type": "stream",
     "name": "stdout",
     "text": "movieId  rating        id    budget     revenue  \\\n21474    2086.0     5.0   13380.0         0         0.0   \n40830    3879.0     5.0   11398.0  40000000  30199105.0   \n57159    4302.0     5.0   10613.0         0         0.0   \n57841    4731.0     5.0  125707.0         0         0.0   \n58441    5071.0     5.0   35650.0         0         0.0   \n69567    5062.0     5.0   20620.0         0         0.0   \n73189   51471.0     5.0   15163.0         0         0.0   \n75926    8955.0     5.0   16131.0         0    143597.0   \n79978    4088.0     5.0   67307.0         0   1700000.0   \n80240    4522.0     5.0   41963.0         0         0.0   \n80263    4617.0     5.0   19118.0         0         0.0   \n80593    5960.0     5.0   24249.0         0         0.0   \n81658    4114.0     5.0   48149.0         0    183700.0   \n81675    6107.0     5.0   42130.0         0         0.0   \n81697   59447.0     5.0   41648.0         0         0.0   \n81698   69761.0     5.0   47104.0         0         0.0   \n81699   71180.0     5.0   42225.0         0         0.0   \n81714   97826.0     5.0  128158.0         0    148671.0   \n81715   98587.0     5.0   96821.0         0         0.0   \n81718  102753.0     5.0  152780.0  11000000  10631747.0   \n\n                                 title  vote_average  \n21474              One Magic Christmas           5.7  \n40830                   The Art of War           5.6  \n57159                The King Is Alive           5.8  \n57841                        Innocence           5.0  \n58441                        Maelström           6.3  \n69567                          Seconds           7.1  \n73189                    Amazing Grace           7.0  \n75926                         Undertow           5.9  \n79978                     The Big Town           5.9  \n80240                       Masquerade           5.2  \n80263                      Let It Ride           7.1  \n80593                    Bad Influence           5.8  \n81658            Good Morning, Babylon           5.8  \n81675  The Night of the Shooting Stars           6.3  \n81697                          Fiorile           7.0  \n81698          Through the Olive Trees           7.4  \n81699                    Padre Padrone           6.7  \n81714               The Patience Stone           6.2  \n81715                  Caesar Must Die           6.6  \n81718                         The Past           7.1  \n"
    }
   ],
   "source": [
    "top20Ratings = uniqueMovies.nlargest(20, ['rating']) \n",
    "print(top20Ratings)"
   ]
  },
  {
   "cell_type": "code",
   "execution_count": null,
   "metadata": {},
   "outputs": [],
   "source": []
  }
 ],
 "metadata": {
  "kernelspec": {
   "display_name": "Python 3",
   "language": "python",
   "name": "python3"
  },
  "language_info": {
   "codemirror_mode": {
    "name": "ipython",
    "version": 3
   },
   "file_extension": ".py",
   "mimetype": "text/x-python",
   "name": "python",
   "nbconvert_exporter": "python",
   "pygments_lexer": "ipython3",
   "version": "3.7.4-final"
  }
 },
 "nbformat": 4,
 "nbformat_minor": 4
}