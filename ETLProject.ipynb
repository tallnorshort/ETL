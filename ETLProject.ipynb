{
 "cells": [
  {
   "cell_type": "code",
   "execution_count": 1,
   "metadata": {},
   "outputs": [],
   "source": [
    "import pandas as pd\n",
    "from sqlalchemy import create_engine"
   ]
  },
  {
   "cell_type": "code",
   "execution_count": 2,
   "metadata": {},
   "outputs": [
    {
     "output_type": "execute_result",
     "data": {
      "text/plain": "         budget      id      revenue                        title  \\\n0      30000000     862  373554033.0                    Toy Story   \n1      65000000    8844  262797249.0                      Jumanji   \n2             0   15602          0.0             Grumpier Old Men   \n3      16000000   31357   81452156.0            Waiting to Exhale   \n4             0   11862   76578911.0  Father of the Bride Part II   \n...         ...     ...          ...                          ...   \n45461         0  439050          0.0                       Subdue   \n45462         0  111109          0.0          Century of Birthing   \n45463         0   67758          0.0                     Betrayal   \n45464         0  227506          0.0             Satan Triumphant   \n45465         0  461257          0.0                     Queerama   \n\n       vote_average  \n0               7.7  \n1               6.9  \n2               6.5  \n3               6.1  \n4               5.7  \n...             ...  \n45461           4.0  \n45462           9.0  \n45463           3.8  \n45464           0.0  \n45465           0.0  \n\n[45466 rows x 5 columns]",
      "text/html": "<div>\n<style scoped>\n    .dataframe tbody tr th:only-of-type {\n        vertical-align: middle;\n    }\n\n    .dataframe tbody tr th {\n        vertical-align: top;\n    }\n\n    .dataframe thead th {\n        text-align: right;\n    }\n</style>\n<table border=\"1\" class=\"dataframe\">\n  <thead>\n    <tr style=\"text-align: right;\">\n      <th></th>\n      <th>budget</th>\n      <th>id</th>\n      <th>revenue</th>\n      <th>title</th>\n      <th>vote_average</th>\n    </tr>\n  </thead>\n  <tbody>\n    <tr>\n      <th>0</th>\n      <td>30000000</td>\n      <td>862</td>\n      <td>373554033.0</td>\n      <td>Toy Story</td>\n      <td>7.7</td>\n    </tr>\n    <tr>\n      <th>1</th>\n      <td>65000000</td>\n      <td>8844</td>\n      <td>262797249.0</td>\n      <td>Jumanji</td>\n      <td>6.9</td>\n    </tr>\n    <tr>\n      <th>2</th>\n      <td>0</td>\n      <td>15602</td>\n      <td>0.0</td>\n      <td>Grumpier Old Men</td>\n      <td>6.5</td>\n    </tr>\n    <tr>\n      <th>3</th>\n      <td>16000000</td>\n      <td>31357</td>\n      <td>81452156.0</td>\n      <td>Waiting to Exhale</td>\n      <td>6.1</td>\n    </tr>\n    <tr>\n      <th>4</th>\n      <td>0</td>\n      <td>11862</td>\n      <td>76578911.0</td>\n      <td>Father of the Bride Part II</td>\n      <td>5.7</td>\n    </tr>\n    <tr>\n      <th>...</th>\n      <td>...</td>\n      <td>...</td>\n      <td>...</td>\n      <td>...</td>\n      <td>...</td>\n    </tr>\n    <tr>\n      <th>45461</th>\n      <td>0</td>\n      <td>439050</td>\n      <td>0.0</td>\n      <td>Subdue</td>\n      <td>4.0</td>\n    </tr>\n    <tr>\n      <th>45462</th>\n      <td>0</td>\n      <td>111109</td>\n      <td>0.0</td>\n      <td>Century of Birthing</td>\n      <td>9.0</td>\n    </tr>\n    <tr>\n      <th>45463</th>\n      <td>0</td>\n      <td>67758</td>\n      <td>0.0</td>\n      <td>Betrayal</td>\n      <td>3.8</td>\n    </tr>\n    <tr>\n      <th>45464</th>\n      <td>0</td>\n      <td>227506</td>\n      <td>0.0</td>\n      <td>Satan Triumphant</td>\n      <td>0.0</td>\n    </tr>\n    <tr>\n      <th>45465</th>\n      <td>0</td>\n      <td>461257</td>\n      <td>0.0</td>\n      <td>Queerama</td>\n      <td>0.0</td>\n    </tr>\n  </tbody>\n</table>\n<p>45466 rows × 5 columns</p>\n</div>"
     },
     "metadata": {},
     "execution_count": 2
    }
   ],
   "source": [
    "movie_file = \"movies_metadata.csv\"\n",
    "movie_data_df = pd.read_csv(movie_file)\n",
    "movie_data_df.head()\n",
    "\n",
    "\n",
    "movie_data_df2= movie_data_df.drop(['adult', 'belongs_to_collection', 'genres', 'homepage','imdb_id','original_language','overview','popularity',\n",
    "                                   'poster_path','release_date','runtime','spoken_languages','status','tagline','original_title',\n",
    "                                   'video','vote_count','production_companies','production_countries'],axis=1)\n",
    "movie_data_df2"
   ]
  },
  {
   "cell_type": "code",
   "execution_count": 9,
   "metadata": {},
   "outputs": [
    {
     "output_type": "execute_result",
     "data": {
      "text/plain": "        movieId  rating\n0            31     2.5\n1          1029     3.0\n2          1061     3.0\n3          1129     2.0\n4          1172     4.0\n...         ...     ...\n99999      6268     2.5\n100000     6269     4.0\n100001     6365     4.0\n100002     6385     2.5\n100003     6565     3.5\n\n[100004 rows x 2 columns]",
      "text/html": "<div>\n<style scoped>\n    .dataframe tbody tr th:only-of-type {\n        vertical-align: middle;\n    }\n\n    .dataframe tbody tr th {\n        vertical-align: top;\n    }\n\n    .dataframe thead th {\n        text-align: right;\n    }\n</style>\n<table border=\"1\" class=\"dataframe\">\n  <thead>\n    <tr style=\"text-align: right;\">\n      <th></th>\n      <th>movieId</th>\n      <th>rating</th>\n    </tr>\n  </thead>\n  <tbody>\n    <tr>\n      <th>0</th>\n      <td>31</td>\n      <td>2.5</td>\n    </tr>\n    <tr>\n      <th>1</th>\n      <td>1029</td>\n      <td>3.0</td>\n    </tr>\n    <tr>\n      <th>2</th>\n      <td>1061</td>\n      <td>3.0</td>\n    </tr>\n    <tr>\n      <th>3</th>\n      <td>1129</td>\n      <td>2.0</td>\n    </tr>\n    <tr>\n      <th>4</th>\n      <td>1172</td>\n      <td>4.0</td>\n    </tr>\n    <tr>\n      <th>...</th>\n      <td>...</td>\n      <td>...</td>\n    </tr>\n    <tr>\n      <th>99999</th>\n      <td>6268</td>\n      <td>2.5</td>\n    </tr>\n    <tr>\n      <th>100000</th>\n      <td>6269</td>\n      <td>4.0</td>\n    </tr>\n    <tr>\n      <th>100001</th>\n      <td>6365</td>\n      <td>4.0</td>\n    </tr>\n    <tr>\n      <th>100002</th>\n      <td>6385</td>\n      <td>2.5</td>\n    </tr>\n    <tr>\n      <th>100003</th>\n      <td>6565</td>\n      <td>3.5</td>\n    </tr>\n  </tbody>\n</table>\n<p>100004 rows × 2 columns</p>\n</div>"
     },
     "metadata": {},
     "execution_count": 9
    }
   ],
   "source": [
    "rating_file = \"ratings_small.csv\"\n",
    "rating_data_df = pd.read_csv(rating_file)\n",
    "rating_data_df.head()\n",
    "\n",
    "\n",
    "rating_data_df2= rating_data_df.drop(['userId','timestamp'],axis=1)\n",
    "rating_data_df2"
   ]
  },
  {
   "cell_type": "code",
   "execution_count": 4,
   "metadata": {},
   "outputs": [
    {
     "output_type": "execute_result",
     "data": {
      "text/plain": "      movieId    tmdbId\n0           1     862.0\n1           2    8844.0\n2           3   15602.0\n3           4   31357.0\n4           5   11862.0\n...       ...       ...\n9120   162672  402672.0\n9121   163056  315011.0\n9122   163949  391698.0\n9123   164977  137608.0\n9124   164979  410803.0\n\n[9125 rows x 2 columns]",
      "text/html": "<div>\n<style scoped>\n    .dataframe tbody tr th:only-of-type {\n        vertical-align: middle;\n    }\n\n    .dataframe tbody tr th {\n        vertical-align: top;\n    }\n\n    .dataframe thead th {\n        text-align: right;\n    }\n</style>\n<table border=\"1\" class=\"dataframe\">\n  <thead>\n    <tr style=\"text-align: right;\">\n      <th></th>\n      <th>movieId</th>\n      <th>tmdbId</th>\n    </tr>\n  </thead>\n  <tbody>\n    <tr>\n      <th>0</th>\n      <td>1</td>\n      <td>862.0</td>\n    </tr>\n    <tr>\n      <th>1</th>\n      <td>2</td>\n      <td>8844.0</td>\n    </tr>\n    <tr>\n      <th>2</th>\n      <td>3</td>\n      <td>15602.0</td>\n    </tr>\n    <tr>\n      <th>3</th>\n      <td>4</td>\n      <td>31357.0</td>\n    </tr>\n    <tr>\n      <th>4</th>\n      <td>5</td>\n      <td>11862.0</td>\n    </tr>\n    <tr>\n      <th>...</th>\n      <td>...</td>\n      <td>...</td>\n    </tr>\n    <tr>\n      <th>9120</th>\n      <td>162672</td>\n      <td>402672.0</td>\n    </tr>\n    <tr>\n      <th>9121</th>\n      <td>163056</td>\n      <td>315011.0</td>\n    </tr>\n    <tr>\n      <th>9122</th>\n      <td>163949</td>\n      <td>391698.0</td>\n    </tr>\n    <tr>\n      <th>9123</th>\n      <td>164977</td>\n      <td>137608.0</td>\n    </tr>\n    <tr>\n      <th>9124</th>\n      <td>164979</td>\n      <td>410803.0</td>\n    </tr>\n  </tbody>\n</table>\n<p>9125 rows × 2 columns</p>\n</div>"
     },
     "metadata": {},
     "execution_count": 4
    }
   ],
   "source": [
    "link_file = \"links_small.csv\"\n",
    "link_data_df = pd.read_csv(link_file)\n",
    "link_data_df.head()\n",
    "\n",
    "link_data_df2= link_data_df.drop(['imdbId'],axis=1)\n",
    "\n",
    "link_data_df2"
   ]
  },
  {
   "cell_type": "code",
   "execution_count": 11,
   "metadata": {},
   "outputs": [
    {
     "output_type": "execute_result",
     "data": {
      "text/plain": "        movieId  rating    tmdbId\n0            31     2.5    9909.0\n1            31     3.0    9909.0\n2            31     4.0    9909.0\n3            31     4.0    9909.0\n4            31     3.0    9909.0\n...         ...     ...       ...\n100058   161336     NaN  373348.0\n100059   161582     NaN  338766.0\n100060   163056     NaN  315011.0\n100061   164977     NaN  137608.0\n100062   164979     NaN  410803.0\n\n[100063 rows x 3 columns]",
      "text/html": "<div>\n<style scoped>\n    .dataframe tbody tr th:only-of-type {\n        vertical-align: middle;\n    }\n\n    .dataframe tbody tr th {\n        vertical-align: top;\n    }\n\n    .dataframe thead th {\n        text-align: right;\n    }\n</style>\n<table border=\"1\" class=\"dataframe\">\n  <thead>\n    <tr style=\"text-align: right;\">\n      <th></th>\n      <th>movieId</th>\n      <th>rating</th>\n      <th>tmdbId</th>\n    </tr>\n  </thead>\n  <tbody>\n    <tr>\n      <th>0</th>\n      <td>31</td>\n      <td>2.5</td>\n      <td>9909.0</td>\n    </tr>\n    <tr>\n      <th>1</th>\n      <td>31</td>\n      <td>3.0</td>\n      <td>9909.0</td>\n    </tr>\n    <tr>\n      <th>2</th>\n      <td>31</td>\n      <td>4.0</td>\n      <td>9909.0</td>\n    </tr>\n    <tr>\n      <th>3</th>\n      <td>31</td>\n      <td>4.0</td>\n      <td>9909.0</td>\n    </tr>\n    <tr>\n      <th>4</th>\n      <td>31</td>\n      <td>3.0</td>\n      <td>9909.0</td>\n    </tr>\n    <tr>\n      <th>...</th>\n      <td>...</td>\n      <td>...</td>\n      <td>...</td>\n    </tr>\n    <tr>\n      <th>100058</th>\n      <td>161336</td>\n      <td>NaN</td>\n      <td>373348.0</td>\n    </tr>\n    <tr>\n      <th>100059</th>\n      <td>161582</td>\n      <td>NaN</td>\n      <td>338766.0</td>\n    </tr>\n    <tr>\n      <th>100060</th>\n      <td>163056</td>\n      <td>NaN</td>\n      <td>315011.0</td>\n    </tr>\n    <tr>\n      <th>100061</th>\n      <td>164977</td>\n      <td>NaN</td>\n      <td>137608.0</td>\n    </tr>\n    <tr>\n      <th>100062</th>\n      <td>164979</td>\n      <td>NaN</td>\n      <td>410803.0</td>\n    </tr>\n  </tbody>\n</table>\n<p>100063 rows × 3 columns</p>\n</div>"
     },
     "metadata": {},
     "execution_count": 11
    }
   ],
   "source": [
    "link_rating_df = pd.merge(rating_data_df2, link_data_df2, on='movieId', how='outer')\n",
    "link_rating_df"
   ]
  },
  {
   "cell_type": "code",
   "execution_count": null,
   "metadata": {},
   "outputs": [],
   "source": []
  }
 ],
 "metadata": {
  "kernelspec": {
   "display_name": "Python 3",
   "language": "python",
   "name": "python3"
  },
  "language_info": {
   "codemirror_mode": {
    "name": "ipython",
    "version": 3
   },
   "file_extension": ".py",
   "mimetype": "text/x-python",
   "name": "python",
   "nbconvert_exporter": "python",
   "pygments_lexer": "ipython3",
   "version": "3.7.4-final"
  }
 },
 "nbformat": 4,
 "nbformat_minor": 4
}